{
  "nbformat": 4,
  "nbformat_minor": 0,
  "metadata": {
    "colab": {
      "provenance": [],
      "include_colab_link": true
    },
    "kernelspec": {
      "name": "python3",
      "display_name": "Python 3"
    },
    "language_info": {
      "name": "python"
    }
  },
  "cells": [
    {
      "cell_type": "markdown",
      "metadata": {
        "id": "view-in-github",
        "colab_type": "text"
      },
      "source": [
        "<a href=\"https://colab.research.google.com/github/payaldas30/Impulse-NITK/blob/main/BestModel_RF.ipynb\" target=\"_parent\"><img src=\"https://colab.research.google.com/assets/colab-badge.svg\" alt=\"Open In Colab\"/></a>"
      ]
    },
    {
      "cell_type": "code",
      "execution_count": null,
      "metadata": {
        "colab": {
          "base_uri": "https://localhost:8080/"
        },
        "id": "fCA_0v4-8DhE",
        "outputId": "2ad17615-f320-49b4-a59e-7df2ae34a0e9"
      },
      "outputs": [
        {
          "output_type": "stream",
          "name": "stdout",
          "text": [
            "Drive already mounted at /content/drive; to attempt to forcibly remount, call drive.mount(\"/content/drive\", force_remount=True).\n"
          ]
        }
      ],
      "source": [
        "from google.colab import drive\n",
        "drive.mount('/content/drive')"
      ]
    },
    {
      "cell_type": "code",
      "source": [
        "train_data_path = '/content/drive/MyDrive/Impulse/EEG_Data/train_data'\n",
        "validation_data_path = '/content/drive/MyDrive/Impulse/EEG_Data/validation_data'\n",
        "class_folders = {\n",
        "    \"Complex_Partial_Seizures\": 0,\n",
        "    \"Electrographic_Seizures\": 1,\n",
        "    \"Video_detected_Seizures_with_no_visual_change_over_EEG\": 2,\n",
        "    \"Normal\": 3\n",
        "}"
      ],
      "metadata": {
        "id": "dITE1bRx8MKH"
      },
      "execution_count": null,
      "outputs": []
    },
    {
      "cell_type": "code",
      "source": [
        "import numpy as np\n",
        "import os\n",
        "import matplotlib.pyplot as plt\n",
        "from scipy.fft import fft, fftfreq\n",
        "from scipy.signal import spectrogram\n",
        "!pip install PyWavelets\n",
        "import pywt\n",
        "from sklearn.svm import SVC\n",
        "from sklearn.pipeline import make_pipeline\n",
        "from sklearn.preprocessing import StandardScaler, label_binarize\n",
        "from sklearn.metrics import classification_report, roc_auc_score, balanced_accuracy_score, roc_curve, auc"
      ],
      "metadata": {
        "colab": {
          "base_uri": "https://localhost:8080/"
        },
        "id": "cG6Odxr38cGU",
        "outputId": "3e63413e-dc5d-42c6-dd93-14193624304f"
      },
      "execution_count": null,
      "outputs": [
        {
          "output_type": "stream",
          "name": "stdout",
          "text": [
            "Requirement already satisfied: PyWavelets in /usr/local/lib/python3.11/dist-packages (1.8.0)\n",
            "Requirement already satisfied: numpy<3,>=1.23 in /usr/local/lib/python3.11/dist-packages (from PyWavelets) (1.26.4)\n"
          ]
        }
      ]
    },
    {
      "cell_type": "code",
      "source": [
        "def compute_fft_features(signal, sampling_rate):\n",
        "    fft_values = np.fft.fft(signal)\n",
        "    fft_magnitudes = np.abs(fft_values[:len(fft_values) // 2])\n",
        "    freq = np.fft.fftfreq(len(signal), d=1 / sampling_rate)[:len(fft_values) // 2]\n",
        "\n",
        "    peak_freq = freq[np.argmax(fft_magnitudes)]\n",
        "    mean_amp = np.mean(fft_magnitudes)\n",
        "\n",
        "    return peak_freq, mean_amp\n",
        "\n",
        "def compute_zcr(signal):\n",
        "    return ((signal[:-1] * signal[1:]) < 0).sum() / len(signal)\n",
        "def extract_features(data_path, class_folders, sampling_rate=256):\n",
        "    features = []\n",
        "    labels = []\n",
        "    for class_name, class_label in class_folders.items():\n",
        "        class_folder = os.path.join(data_path, class_name)\n",
        "        for file in os.listdir(class_folder):\n",
        "            if file.endswith('.npy'):\n",
        "                data = np.load(os.path.join(class_folder, file))\n",
        "                if data.shape[0] > 0:  # Ensure channel 1 exists\n",
        "                    signal = data[0, :]  # Extract only channel 1\n",
        "                    peak_freq, mean_amp = compute_fft_features(signal, sampling_rate)\n",
        "                    zcr = compute_zcr(signal)\n",
        "                    features.append([peak_freq, mean_amp, zcr])\n",
        "                    labels.append(class_label)\n",
        "    return np.array(features), np.array(labels)\n",
        "\n",
        "# Extract train and validation features\n",
        "X_train, y_train = extract_features(train_data_path, class_folders)\n",
        "X_val, y_val = extract_features(validation_data_path, class_folders)"
      ],
      "metadata": {
        "id": "rzFBw4Cc8WhX"
      },
      "execution_count": 5,
      "outputs": []
    },
    {
      "cell_type": "code",
      "source": [
        "from sklearn.ensemble import RandomForestClassifier\n",
        "from sklearn.metrics import classification_report, confusion_matrix, roc_auc_score, roc_curve, auc\n",
        "from sklearn.preprocessing import label_binarize\n",
        "import matplotlib.pyplot as plt\n",
        "import numpy as np"
      ],
      "metadata": {
        "id": "K_4yoKHo-6hN"
      },
      "execution_count": null,
      "outputs": []
    },
    {
      "cell_type": "code",
      "source": [
        "from sklearn.ensemble import RandomForestClassifier\n",
        "from sklearn.metrics import classification_report, roc_auc_score, balanced_accuracy_score, roc_curve, auc\n",
        "from sklearn.preprocessing import label_binarize\n",
        "import matplotlib.pyplot as plt\n",
        "\n",
        "rf_model = RandomForestClassifier(n_estimators=100, random_state=42)\n",
        "rf_model.fit(X_train, y_train)\n",
        "\n",
        "y_pred = rf_model.predict(X_val)\n",
        "y_prob = rf_model.predict_proba(X_val)\n",
        "y_val_binarized = label_binarize(y_val, classes=[0, 1, 2, 3])\n",
        "\n",
        "class_report = classification_report(y_val, y_pred)\n",
        "balanced_acc = balanced_accuracy_score(y_val, y_pred)\n",
        "roc_auc = roc_auc_score(y_val_binarized, y_prob, average='macro', multi_class='ovr')\n",
        "\n",
        "print(\"Classification Report:\\n\", class_report)\n",
        "print(f\"Balanced Accuracy: {balanced_acc:.4f}\")\n",
        "print(f\"ROC AUC Score: {roc_auc:.4f}\")\n",
        "\n",
        "\n",
        "plt.figure(figsize=(8, 6))\n",
        "for i in range(4):\n",
        "    fpr, tpr, _ = roc_curve(y_val_binarized[:, i], y_prob[:, i])\n",
        "    plt.plot(fpr, tpr, label=f\"Class {i} (AUC = {auc(fpr, tpr):.2f})\")\n",
        "\n",
        "plt.title(\"ROC Curves for Random Forest\")\n",
        "plt.xlabel(\"False Positive Rate\")\n",
        "plt.ylabel(\"True Positive Rate\")\n",
        "plt.legend()\n",
        "plt.grid()\n",
        "plt.show()"
      ],
      "metadata": {
        "colab": {
          "base_uri": "https://localhost:8080/"
        },
        "id": "_bASRt3i_n0B",
        "outputId": "0525341e-371e-405c-b3c8-256681a4c066"
      },
      "execution_count": null,
      "outputs": [
        {
          "output_type": "stream",
          "name": "stdout",
          "text": [
            "Classification Report:\n",
            "               precision    recall  f1-score   support\n",
            "\n",
            "           0       0.73      0.76      0.74       549\n",
            "           1       0.42      0.37      0.39       137\n",
            "           2       0.81      0.62      0.70        21\n",
            "           3       0.80      0.80      0.80       696\n",
            "\n",
            "    accuracy                           0.74      1403\n",
            "   macro avg       0.69      0.64      0.66      1403\n",
            "weighted avg       0.73      0.74      0.74      1403\n",
            "\n",
            "Balanced Accuracy: 0.6363\n",
            "ROC AUC Score: 0.8808\n"
          ]
        }
      ]
    }
  ]
}